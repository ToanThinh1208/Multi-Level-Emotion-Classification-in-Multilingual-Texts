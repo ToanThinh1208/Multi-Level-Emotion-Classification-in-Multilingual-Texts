{
 "cells": [
  {
   "cell_type": "code",
   "execution_count": 2,
   "metadata": {},
   "outputs": [
    {
     "name": "stdout",
     "output_type": "stream",
     "text": [
      "Các cột trong dataset: ['marketplace', 'customer_id', 'review_id', 'product_id', 'product_parent', 'product_title', 'product_category', 'star_rating', 'helpful_votes', 'total_votes', 'vine', 'verified_purchase', 'review_headline', 'review_body', 'review_date', 'sentiment']\n",
      "Các star_rating độc nhất: [5 1 3 4 2]\n",
      "🔹 Accuracy (Naive Bayes): 0.7568881685575365\n",
      "🔹 Classification Report:\n",
      "               precision    recall  f1-score   support\n",
      "\n",
      "           1       0.73      0.32      0.44       344\n",
      "           2       0.93      0.11      0.20       237\n",
      "           3       0.73      0.29      0.41       462\n",
      "           4       0.68      0.44      0.54      1159\n",
      "           5       0.77      0.98      0.86      3968\n",
      "\n",
      "    accuracy                           0.76      6170\n",
      "   macro avg       0.77      0.43      0.49      6170\n",
      "weighted avg       0.75      0.76      0.72      6170\n",
      "\n",
      "🔹 Confusion Matrix:\n",
      " [[ 109    0   15   46  174]\n",
      " [  21   26   14   41  135]\n",
      " [   9    1  132   91  229]\n",
      " [   4    0   17  514  624]\n",
      " [   6    1    4   68 3889]]\n"
     ]
    }
   ],
   "source": [
    "from sklearn.naive_bayes import MultinomialNB\n",
    "from sklearn.metrics import accuracy_score, classification_report, confusion_matrix\n",
    "import pandas as pd\n",
    "import re\n",
    "from sklearn.model_selection import train_test_split, cross_val_score\n",
    "from sklearn.feature_extraction.text import TfidfVectorizer\n",
    "from sklearn.svm import SVC\n",
    "from sklearn.metrics import classification_report, confusion_matrix, accuracy_score\n",
    "from imblearn.over_sampling import SMOTE\n",
    "from collections import Counter\n",
    "from sklearn.model_selection import GridSearchCV\n",
    "from sklearn.pipeline import Pipeline\n",
    "import csv\n",
    "\n",
    "# 1. Đọc dữ liệu từ file CSV\n",
    "data = pd.read_csv('./dataset/Amazon_Product_Review_cleaned.csv')\n",
    "\n",
    "# Hiển thị các cột của dataset (để kiểm tra)\n",
    "print(\"Các cột trong dataset:\", data.columns.tolist())\n",
    "\n",
    "# 2. Tiền xử lý văn bản trong cột 'review'\n",
    "def preprocess_text(text):\n",
    "    text = str(text)            # Đảm bảo text là chuỗi\n",
    "    text = text.lower()         # Chuyển về chữ thường\n",
    "    # Giữ lại các ký tự chữ cái (bao gồm có dấu), số và dấu cách\n",
    "    text = re.sub(r'[^a-zA-Z0-9À-ỹ\\s]', '', text)\n",
    "    return text\n",
    "\n",
    "# Áp dụng tiền xử lý cho cột review\n",
    "data['review'] = data['review_headline'].apply(preprocess_text)\n",
    "\n",
    "# 3. Loại bỏ các dòng có giá trị bị thiếu\n",
    "data = data.dropna(subset=['review', 'star_rating'])\n",
    "\n",
    "# 4. Đảm bảo cột star_rating ở dạng số nguyên\n",
    "data['star_rating'] = data['star_rating'].astype(int)\n",
    "\n",
    "# Hiển thị các giá trị star_rating độc nhất\n",
    "print(\"Các star_rating độc nhất:\", data['star_rating'].unique())\n",
    "# 1. Tách dữ liệu train-test\n",
    "X_train, X_test, y_train, y_test = train_test_split(data['review'], data['star_rating'], test_size=0.2, random_state=42)\n",
    "\n",
    "# 2. Vector hóa văn bản bằng TF-IDF\n",
    "vectorizer = TfidfVectorizer(max_features=5000)\n",
    "X_train_tfidf = vectorizer.fit_transform(X_train)\n",
    "X_test_tfidf = vectorizer.transform(X_test)\n",
    "\n",
    "# 3. Huấn luyện mô hình Naive Bayes\n",
    "nb_model = MultinomialNB()\n",
    "nb_model.fit(X_train_tfidf, y_train)\n",
    "\n",
    "# 4. Dự đoán và đánh giá\n",
    "y_pred_nb = nb_model.predict(X_test_tfidf)\n",
    "\n",
    "print(\"🔹 Accuracy (Naive Bayes):\", accuracy_score(y_test, y_pred_nb))\n",
    "print(\"🔹 Classification Report:\\n\", classification_report(y_test, y_pred_nb))\n",
    "print(\"🔹 Confusion Matrix:\\n\", confusion_matrix(y_test, y_pred_nb))\n"
   ]
  }
 ],
 "metadata": {
  "kernelspec": {
   "display_name": "Python 3",
   "language": "python",
   "name": "python3"
  },
  "language_info": {
   "codemirror_mode": {
    "name": "ipython",
    "version": 3
   },
   "file_extension": ".py",
   "mimetype": "text/x-python",
   "name": "python",
   "nbconvert_exporter": "python",
   "pygments_lexer": "ipython3",
   "version": "3.10.16"
  }
 },
 "nbformat": 4,
 "nbformat_minor": 2
}
