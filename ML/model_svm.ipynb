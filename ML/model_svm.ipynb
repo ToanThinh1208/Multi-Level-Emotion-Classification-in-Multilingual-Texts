{
 "cells": [
  {
   "cell_type": "code",
   "execution_count": null,
   "metadata": {},
   "outputs": [],
   "source": [
    "from sklearn.model_selection import train_test_split\n",
    "from sklearn.feature_extraction.text import TfidfVectorizer\n",
    "from sklearn.svm import SVC\n",
    "from sklearn.linear_model import LogisticRegression\n",
    "from sklearn.metrics import classification_report, confusion_matrix\n",
    "import seaborn as sns\n",
    "\n",
    "# Chia tập dữ liệu thành train và test (80% train, 20% test)\n",
    "X_train, X_test, y_train, y_test = train_test_split(df[text_column], df[\"sentiment\"], test_size=0.2, random_state=42)\n",
    "\n",
    "# Vector hóa văn bản bằng TF-IDF (phù hợp cho SVM)\n",
    "tfidf = TfidfVectorizer(max_features=5000)  # Giới hạn 5000 từ phổ biến nhất để giảm kích thước\n",
    "X_train_tfidf = tfidf.fit_transform(X_train)\n",
    "X_test_tfidf = tfidf.transform(X_test)\n",
    "\n",
    "# Huấn luyện mô hình SVM\n",
    "svm_model = SVC(kernel='linear', random_state=42)\n",
    "svm_model.fit(X_train_tfidf, y_train)\n",
    "\n",
    "# Dự đoán trên tập test\n",
    "y_pred_svm = svm_model.predict(X_test_tfidf)\n",
    "\n",
    "# Đánh giá mô hình\n",
    "svm_report = classification_report(y_test, y_pred_svm)\n",
    "svm_conf_matrix = confusion_matrix(y_test, y_pred_svm)\n",
    "\n",
    "# Vẽ Confusion Matrix\n",
    "plt.figure(figsize=(6, 5))\n",
    "sns.heatmap(svm_conf_matrix, annot=True, fmt=\"d\", cmap=\"Blues\", xticklabels=[1, 2, 3, 4, 5], yticklabels=[1, 2, 3, 4, 5])\n",
    "plt.xlabel(\"Predicted Label\")\n",
    "plt.ylabel(\"True Label\")\n",
    "plt.title(\"Confusion Matrix - SVM\")\n",
    "plt.show()\n",
    "\n",
    "# Xuất báo cáo kết quả\n",
    "svm_report\n"
   ]
  },
  {
   "cell_type": "code",
   "execution_count": null,
   "metadata": {},
   "outputs": [],
   "source": [
    "# Huấn luyện mô hình Logistic Regression\n",
    "logreg_model = LogisticRegression(max_iter=1000, random_state=42)\n",
    "logreg_model.fit(X_train_tfidf, y_train)\n",
    "\n",
    "# Dự đoán trên tập test\n",
    "y_pred_logreg = logreg_model.predict(X_test_tfidf)\n",
    "\n",
    "# Đánh giá mô hình\n",
    "logreg_report = classification_report(y_test, y_pred_logreg)\n",
    "logreg_conf_matrix = confusion_matrix(y_test, y_pred_logreg)\n",
    "\n",
    "# Vẽ Confusion Matrix cho Logistic Regression\n",
    "plt.figure(figsize=(6, 5))\n",
    "sns.heatmap(logreg_conf_matrix, annot=True, fmt=\"d\", cmap=\"Oranges\", xticklabels=[1, 2, 3, 4, 5], yticklabels=[1, 2, 3, 4, 5])\n",
    "plt.xlabel(\"Predicted Label\")\n",
    "plt.ylabel(\"True Label\")\n",
    "plt.title(\"Confusion Matrix - Logistic Regression\")\n",
    "plt.show()\n",
    "\n",
    "# Xuất báo cáo kết quả\n",
    "logreg_report\n"
   ]
  }
 ],
 "metadata": {
  "language_info": {
   "name": "python"
  }
 },
 "nbformat": 4,
 "nbformat_minor": 2
}
