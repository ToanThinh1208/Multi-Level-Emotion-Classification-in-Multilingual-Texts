{
 "cells": [
  {
   "cell_type": "code",
   "execution_count": null,
   "metadata": {},
   "outputs": [],
   "source": [
    "import pandas as pd\n",
    "import numpy as np\n",
    "from sklearn.model_selection import train_test_split, GridSearchCV\n",
    "from sklearn.feature_extraction.text import TfidfVectorizer\n",
    "from sklearn.svm import SVC\n",
    "from sklearn.metrics import classification_report, accuracy_score, confusion_matrix\n",
    "\n",
    "# 1. Đọc dữ liệu đã làm sạch\n",
    "file_path = \"./dataset/Amazon_Product_Review_cleaned.csv\"\n",
    "df = pd.read_csv(file_path)\n",
    "\n",
    "\n",
    "# 3. Phân chia tập dữ liệu\n",
    "X = df['review_body']\n",
    "y = df['star_rating']\n",
    "\n",
    "# 4. Xử lý giá trị NaN trong cột review_body\n",
    "X = X.fillna('')\n",
    "\n",
    "# Chuyển đổi văn bản thành đặc trưng số với TF-IDF\n",
    "vectorizer = TfidfVectorizer(max_features=5000)  # Giới hạn 5000 từ phổ biến nhất\n",
    "X_tfidf = vectorizer.fit_transform(X)\n",
    "\n",
    "# 5. Chia tập huấn luyện & kiểm tra\n",
    "X_train, X_test, y_train, y_test = train_test_split(X_tfidf, y, test_size=0.2, random_state=42)\n",
    "\n",
    "# 6. Huấn luyện mô hình SVM với GridSearchCV\n",
    "param_grid = {'C': [0.1, 1, 10], 'kernel': ['linear', 'rbf']}\n",
    "svm = GridSearchCV(SVC(), param_grid, cv=5)\n",
    "svm.fit(X_train, y_train)\n",
    "\n",
    "# 7. Dự đoán trên tập kiểm tra\n",
    "y_pred = svm.best_estimator_.predict(X_test)\n",
    "\n",
    "# 8. Đánh giá mô hình\n",
    "print(\"Độ chính xác:\", accuracy_score(y_test, y_pred))\n",
    "print(\"\\nMa trận nhầm lẫn:\\n\", confusion_matrix(y_test, y_pred))\n",
    "print(\"\\nBáo cáo phân loại:\\n\", classification_report(y_test, y_pred))"
   ]
  },
  {
   "cell_type": "code",
   "execution_count": null,
   "metadata": {},
   "outputs": [],
   "source": [
    "\n",
    "# Danh sách 10 testcase demo:\n",
    "test_sentences = [\n",
    "    \"I absolutely love this product, it's amazing!\",  # 100% tiếng Anh, kỳ vọng: 5 sao\n",
    "    \"Tôi rất thích sản phẩm này\",                      # 100% tiếng Việt, kỳ vọng: 5 sao\n",
    "    \"Not good at all, totally disappointing.\",          # 100% tiếng Anh, kỳ vọng: 1 sao\n",
    "    \"Sản phẩm này không tốt chút nào\",                  # 100% tiếng Việt, kỳ vọng: 1 sao\n",
    "    \"The product is okay, nothing special.\",            # 100% tiếng Anh, kỳ vọng: 3 sao\n",
    "    \"Sản phẩm khá ổn, nhưng cần cải thiện.\",            # 100% tiếng Việt, kỳ vọng: 3 sao\n",
    "    \"Excellent quality and outstanding performance.\",   # 100% tiếng Anh, kỳ vọng: 5 sao\n",
    "    \"Chất lượng trung bình, không đáng giá.\",          # 100% tiếng Việt, kỳ vọng: 2-3 sao\n",
    "    \"I love it, nhưng giá hơi cao.\",                    # Mix tiếng Anh - tiếng Việt, kỳ vọng: 4 sao\n",
    "    \"Worst product ever, tệ quá, không mua lần nữa.\"     # Mix tiếng Anh - tiếng Việt, kỳ vọng: 1 sao\n",
    "]\n",
    "\n",
    "# Biểu diễn các câu test bằng TF-IDF\n",
    "X_test_sentences = vectorizer.transform(test_sentences)\n",
    "y_test_pred = svm.best_estimator_.predict(X_test_sentences)\n",
    "\n",
    "# Hiển thị kết quả\n",
    "for text, pred in zip(test_sentences, y_test_pred):\n",
    "    print(f\"Review: {text} -> Dự đoán: {pred} sao\")"
   ]
  }
 ],
 "metadata": {
  "kernelspec": {
   "display_name": "Python 3",
   "language": "python",
   "name": "python3"
  },
  "language_info": {
   "codemirror_mode": {
    "name": "ipython",
    "version": 3
   },
   "file_extension": ".py",
   "mimetype": "text/x-python",
   "name": "python",
   "nbconvert_exporter": "python",
   "pygments_lexer": "ipython3",
   "version": "3.10.16"
  }
 },
 "nbformat": 4,
 "nbformat_minor": 2
}
