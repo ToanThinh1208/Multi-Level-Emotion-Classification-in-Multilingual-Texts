{
 "cells": [
  {
   "cell_type": "code",
   "execution_count": 10,
   "metadata": {},
   "outputs": [
    {
     "name": "stdout",
     "output_type": "stream",
     "text": [
      "Requirement already satisfied: nltk in c:\\users\\thinh.laptop-gcu8t0aj\\.conda\\envs\\lugak1\\lib\\site-packages (3.9.1)\n",
      "Requirement already satisfied: click in c:\\users\\thinh.laptop-gcu8t0aj\\.conda\\envs\\lugak1\\lib\\site-packages (from nltk) (8.1.8)\n",
      "Requirement already satisfied: joblib in c:\\users\\thinh.laptop-gcu8t0aj\\.conda\\envs\\lugak1\\lib\\site-packages (from nltk) (1.4.2)\n",
      "Requirement already satisfied: regex>=2021.8.3 in c:\\users\\thinh.laptop-gcu8t0aj\\.conda\\envs\\lugak1\\lib\\site-packages (from nltk) (2024.11.6)\n",
      "Requirement already satisfied: tqdm in c:\\users\\thinh.laptop-gcu8t0aj\\.conda\\envs\\lugak1\\lib\\site-packages (from nltk) (4.67.1)\n",
      "Requirement already satisfied: colorama in c:\\users\\thinh.laptop-gcu8t0aj\\.conda\\envs\\lugak1\\lib\\site-packages (from click->nltk) (0.4.6)\n",
      "Note: you may need to restart the kernel to use updated packages.\n"
     ]
    }
   ],
   "source": [
    "%pip install nltk"
   ]
  },
  {
   "cell_type": "code",
   "execution_count": 18,
   "metadata": {},
   "outputs": [
    {
     "name": "stderr",
     "output_type": "stream",
     "text": [
      "[nltk_data] Downloading package punkt to C:\\Users\\Thinh.LAPTOP-\n",
      "[nltk_data]     GCU8T0AJ\\AppData\\Roaming\\nltk_data...\n",
      "[nltk_data]   Package punkt is already up-to-date!\n"
     ]
    },
    {
     "name": "stdout",
     "output_type": "stream",
     "text": [
      "Làm sạch hoàn tất. File được lưu tại: ./dataset_en/Amazon_Product_Review_full_en_cleaned.csv\n"
     ]
    }
   ],
   "source": [
    "import pandas as pd\n",
    "import re\n",
    "import nltk\n",
    "from nltk.tokenize import word_tokenize\n",
    "from underthesea import word_tokenize as vn_word_tokenize, text_normalize\n",
    "import csv\n",
    "\n",
    "# Tải dữ liệu cần thiết\n",
    "nltk.download('punkt')\n",
    "\n",
    "# Hàm làm sạch văn bản\n",
    "def clean_text(text):\n",
    "    if not isinstance(text, str):\n",
    "        return \"\"\n",
    "    \n",
    "    # Loại bỏ thẻ HTML\n",
    "    text = re.sub(r'<[^>]+>', '', text)\n",
    "    # Chuyển văn bản về chữ thường\n",
    "    text = text.lower()\n",
    "\n",
    "    # Xóa ký tự đặc biệt, số và dấu câu (chỉ giữ lại chữ cái và khoảng trắng)\n",
    "    text = re.sub(r\"[^a-zA-ZÀ-ỹ\\s]\", \"\", text)\n",
    "\n",
    "    # Tokenization: phân tách từ cho cả tiếng Anh và tiếng Việt\n",
    "    tokens_en = word_tokenize(text)  # Tiếng Anh\n",
    "\n",
    "\n",
    "    # Kết hợp cả hai kết quả, giữ nguyên stopwords\n",
    "    clean_tokens = list(set(tokens_en))\n",
    "\n",
    "    # Ghép lại thành chuỗi\n",
    "    return \" \".join(clean_tokens)\n",
    "\n",
    "# Đọc dữ liệu\n",
    "\n",
    "file_path = \"./dataset_en/Amazon_Product_Review_full_en.csv\"\n",
    "df = pd.read_csv(file_path, delimiter=';', quotechar='\"', quoting=csv.QUOTE_MINIMAL, encoding='utf-8', engine='python')\n",
    "\n",
    "\n",
    "\n",
    "# Kiểm tra nếu cột review_body tồn tại\n",
    "text_column = \"review_body\"\n",
    "if text_column in df.columns:\n",
    "    df[text_column] = df[text_column].astype(str).apply(clean_text)\n",
    "    df[text_column] = df[text_column].fillna('')  # Xóa NaN\n",
    "\n",
    "text_column = \"review_headline\"\n",
    "if text_column in df.columns:\n",
    "    df[text_column] = df[text_column].astype(str).apply(clean_text)\n",
    "    df[text_column] = df[text_column].fillna('')  # Xóa NaN\n",
    "# Lưu dữ liệu đã làm sạch\n",
    "cleaned_file_path = \"./dataset_en/Amazon_Product_Review_full_en_cleaned.csv\"\n",
    "df.to_csv(cleaned_file_path, index=False)\n",
    "\n",
    "print(\"Làm sạch hoàn tất. File được lưu tại:\", cleaned_file_path)\n"
   ]
  },
  {
   "cell_type": "code",
   "execution_count": null,
   "metadata": {},
   "outputs": [],
   "source": []
  }
 ],
 "metadata": {
  "kernelspec": {
   "display_name": "lugak1",
   "language": "python",
   "name": "python3"
  },
  "language_info": {
   "codemirror_mode": {
    "name": "ipython",
    "version": 3
   },
   "file_extension": ".py",
   "mimetype": "text/x-python",
   "name": "python",
   "nbconvert_exporter": "python",
   "pygments_lexer": "ipython3",
   "version": "3.10.16"
  }
 },
 "nbformat": 4,
 "nbformat_minor": 2
}
