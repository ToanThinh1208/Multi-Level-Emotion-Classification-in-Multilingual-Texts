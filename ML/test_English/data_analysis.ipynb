{
 "cells": [
  {
   "cell_type": "code",
   "execution_count": null,
   "metadata": {},
   "outputs": [],
   "source": [
    "%pip install wordcloud\n",
    "%pip install seaborn\n",
    "%pip install matplotlib\n",
    "%pip install numpy\n",
    "%pip install pandas"
   ]
  },
  {
   "cell_type": "code",
   "execution_count": null,
   "metadata": {},
   "outputs": [],
   "source": [
    "import seaborn as sns\n",
    "import numpy as np\n",
    "from wordcloud import WordCloud\n",
    "import pandas as pd\n",
    "import matplotlib.pyplot as plt\n",
    "import string\n",
    "import re\n",
    "from collections import Counter\n",
    "\n",
    "#đọc file\n",
    "df = pd.read_csv(\"./dataset/Amazon_Product_Review_cleaned.csv\")\n",
    "# Xác định cột chứa nội dung review: ưu tiên 'review_body', sau đó 'review_headline'\n",
    "if 'review_headline' in df.columns:\n",
    "    review_col = 'review_headline'\n",
    "elif 'review_body' in df.columns:\n",
    "    review_col = 'review_body'\n",
    "else:\n",
    "    raise Exception(\"Không tìm thấy cột review (expected 'review_body', 'review_headline')\")\n",
    "\n"
   ]
  },
  {
   "cell_type": "code",
   "execution_count": null,
   "metadata": {},
   "outputs": [],
   "source": [
    "print(\"=== Thông tin dataset ===\")\n",
    "df.info()"
   ]
  },
  {
   "cell_type": "code",
   "execution_count": null,
   "metadata": {},
   "outputs": [],
   "source": [
    "#Kiểm tra dữ liệu trùng lặp\n",
    "duplicates = df.duplicated().sum()\n",
    "print(f\"\\nSố dòng dữ liệu trùng lặp: {duplicates}\")"
   ]
  },
  {
   "cell_type": "code",
   "execution_count": null,
   "metadata": {},
   "outputs": [],
   "source": [
    "# Kiểm tra số lượng giá trị null theo từng cột\n",
    "print(\"\\nSố lượng giá trị null theo cột:\")\n",
    "print(df.isnull().sum())"
   ]
  },
  {
   "cell_type": "code",
   "execution_count": null,
   "metadata": {},
   "outputs": [],
   "source": [
    "# 4. Vẽ heatmap mối tương quan giữa các cột số\n",
    "numeric_cols = df.select_dtypes(include=[np.number]).columns.tolist()\n",
    "if numeric_cols:\n",
    "    plt.figure(figsize=(8,6))\n",
    "    corr = df[numeric_cols].corr()\n",
    "    sns.heatmap(corr, annot=True, cmap='coolwarm')\n",
    "    plt.title(\"Heatmap tương quan giữa các biến số\")\n",
    "    plt.show()"
   ]
  },
  {
   "cell_type": "code",
   "execution_count": null,
   "metadata": {},
   "outputs": [],
   "source": [
    "# 1. Phân loại star_rating theo product_category\n",
    "# -------------------------------\n",
    "\n",
    "plt.figure(figsize=(12,6))\n",
    "sns.countplot(data=df, x='product_category', hue='star_rating')\n",
    "plt.title('Phân loại star_rating theo product_category')\n",
    "plt.xlabel('Product Category')\n",
    "plt.ylabel('Số lượng đánh giá')\n",
    "plt.xticks(rotation=45)\n",
    "plt.tight_layout()\n",
    "plt.show()"
   ]
  },
  {
   "cell_type": "code",
   "execution_count": null,
   "metadata": {},
   "outputs": [],
   "source": [
    "# 1. Phân tích mối quan hệ giữa star_rating và review_body\n",
    "# Biểu đồ đếm số lượng review theo từng star_rating\n",
    "plt.figure(figsize=(8, 6))\n",
    "sns.countplot(x='star_rating', data=df, palette='viridis')\n",
    "plt.title('Số lượng review theo star_rating')\n",
    "plt.xlabel('Star Rating')\n",
    "plt.ylabel('Số lượng review')\n",
    "plt.show()"
   ]
  },
  {
   "cell_type": "code",
   "execution_count": null,
   "metadata": {},
   "outputs": [],
   "source": [
    "# Tạo cột review_length: đếm số từ trong nội dung review\n",
    "df['review_length'] = df[review_col].apply(lambda x: len(str(x).split()))\n",
    "print(\"\\nMô tả của review_length:\")\n",
    "print(df['review_length'].describe())\n",
    "# 3. Barplot: Độ dài review trung bình theo Rating Star\n",
    "avg_review_length = df.groupby('star_rating')['review_length'].mean().reset_index()\n",
    "plt.figure(figsize=(8,6))\n",
    "sns.barplot(x='star_rating', y='review_length', data=avg_review_length, palette=\"magma\")\n",
    "plt.title(\"Độ Dài Review Trung Bình Theo Rating Star\")\n",
    "plt.xlabel(\"Rating Star\")\n",
    "plt.ylabel(\"Độ Dài Review Trung Bình (Số Từ)\")\n",
    "plt.tight_layout()\n",
    "plt.show()"
   ]
  },
  {
   "cell_type": "code",
   "execution_count": null,
   "metadata": {},
   "outputs": [],
   "source": [
    "# Danh sách stopwords cơ bản (bạn có thể mở rộng danh sách này nếu cần)\n",
    "default_stopwords = set([\"the\", \"and\", \"a\", \"an\", \"in\", \"of\", \"to\", \"is\", \"it\", \"that\", \"for\", \"with\", \"on\", \"this\"])\n",
    "\n",
    "# Hàm tokenize: chuyển văn bản về chữ thường, loại bỏ dấu câu và stopwords\n",
    "def tokenize(text):\n",
    "    text = str(text).lower()  # chuyển về chữ thường\n",
    "    text = re.sub(f\"[{re.escape(string.punctuation)}]\", \" \", text)  # loại bỏ dấu câu\n",
    "    tokens = text.split()\n",
    "    tokens = [t for t in tokens if t not in default_stopwords]  # loại bỏ stopwords\n",
    "    return tokens\n",
    "\n",
    "# Lấy danh sách các rating có trong dữ liệu, giả sử cột đánh giá là 'star_rating'\n",
    "ratings = sorted(df['star_rating'].unique())\n",
    "word_freq_dict = {}\n",
    "\n",
    "for r in ratings:\n",
    "    # Lấy các review tương ứng với rating r\n",
    "    texts = df[df['star_rating'] == r][review_col].dropna().tolist()\n",
    "    all_tokens = []\n",
    "    for text in texts:\n",
    "        all_tokens.extend(tokenize(text))\n",
    "    # Đếm tần suất từ\n",
    "    counter = Counter(all_tokens)\n",
    "    common_words = counter.most_common(10)  # Lấy 10 từ xuất hiện nhiều nhất\n",
    "    word_freq_dict[r] = common_words\n",
    "\n",
    "# Vẽ biểu đồ cho từng mức rating\n",
    "num_ratings = len(ratings)\n",
    "fig, axes = plt.subplots(num_ratings, 1, figsize=(10, 5 * num_ratings))\n",
    "if num_ratings == 1:\n",
    "    axes = [axes]\n",
    "\n",
    "for i, r in enumerate(ratings):\n",
    "    if word_freq_dict[r]:\n",
    "        words, counts = zip(*word_freq_dict[r])\n",
    "    else:\n",
    "        words, counts = ([], [])\n",
    "    sns.barplot(x=list(counts), y=list(words), ax=axes[i], palette=\"cool\")\n",
    "    axes[i].set_title(f\"Top 10 từ thường gặp với Rating Star {r}\")\n",
    "    axes[i].set_xlabel(\"Tần Số\")\n",
    "    axes[i].set_ylabel(\"Từ\")\n",
    "\n",
    "plt.tight_layout()\n",
    "plt.show()"
   ]
  }
 ],
 "metadata": {
  "kernelspec": {
   "display_name": "Python 3",
   "language": "python",
   "name": "python3"
  },
  "language_info": {
   "name": "python",
   "version": "3.10.16"
  }
 },
 "nbformat": 4,
 "nbformat_minor": 2
}
