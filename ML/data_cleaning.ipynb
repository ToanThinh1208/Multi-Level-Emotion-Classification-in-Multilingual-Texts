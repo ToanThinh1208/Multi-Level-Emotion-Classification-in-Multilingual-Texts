{
 "cells": [
  {
   "cell_type": "code",
   "execution_count": 5,
   "metadata": {},
   "outputs": [
    {
     "name": "stderr",
     "output_type": "stream",
     "text": [
      "[nltk_data] Downloading package punkt to\n",
      "[nltk_data]     C:\\Users\\NCPC\\AppData\\Roaming\\nltk_data...\n",
      "[nltk_data]   Package punkt is already up-to-date!\n"
     ]
    },
    {
     "name": "stdout",
     "output_type": "stream",
     "text": [
      "Làm sạch hoàn tất. File được lưu tại: ./dataset/Amazon_Product_Review_cleaned.csv\n"
     ]
    }
   ],
   "source": [
    "import pandas as pd\n",
    "import re\n",
    "import nltk\n",
    "from nltk.tokenize import word_tokenize\n",
    "from underthesea import word_tokenize as vn_word_tokenize, text_normalize\n",
    "\n",
    "# Tải dữ liệu cần thiết\n",
    "nltk.download('punkt')\n",
    "\n",
    "# Hàm làm sạch văn bản\n",
    "def clean_text(text):\n",
    "    if not isinstance(text, str):\n",
    "        return \"\"\n",
    "    \n",
    "    # Loại bỏ thẻ HTML\n",
    "    text = re.sub(r'<[^>]+>', '', text)\n",
    "    # Chuyển văn bản về chữ thường\n",
    "    text = text.lower()\n",
    "\n",
    "    # Xóa ký tự đặc biệt, số và dấu câu (chỉ giữ lại chữ cái và khoảng trắng)\n",
    "    text = re.sub(r\"[^a-zA-ZÀ-ỹ\\s]\", \"\", text)\n",
    "\n",
    "    # Tokenization: phân tách từ cho cả tiếng Anh và tiếng Việt\n",
    "    tokens_en = word_tokenize(text)  # Tiếng Anh\n",
    "    tokens_vn = vn_word_tokenize(text)  # Tiếng Việt\n",
    "\n",
    "    # Kết hợp cả hai kết quả, giữ nguyên stopwords\n",
    "    clean_tokens = list(set(tokens_en + tokens_vn))\n",
    "\n",
    "    # Ghép lại thành chuỗi\n",
    "    return \" \".join(clean_tokens)\n",
    "\n",
    "# Đọc dữ liệu\n",
    "file_path = \"./dataset/Amazon_Product_Review_final.csv\"\n",
    "df = pd.read_csv(file_path)\n",
    "\n",
    "# Kiểm tra nếu cột review_body tồn tại\n",
    "text_column = \"review_body\"\n",
    "if text_column in df.columns:\n",
    "    df[text_column] = df[text_column].astype(str).apply(clean_text)\n",
    "    df[text_column] = df[text_column].fillna('')  # Xóa NaN\n",
    "\n",
    "# Lưu dữ liệu đã làm sạch\n",
    "cleaned_file_path = \"./dataset/Amazon_Product_Review_cleaned.csv\"\n",
    "df.to_csv(cleaned_file_path, index=False)\n",
    "\n",
    "print(\"Làm sạch hoàn tất. File được lưu tại:\", cleaned_file_path)\n"
   ]
  }
 ],
 "metadata": {
  "kernelspec": {
   "display_name": "Python 3",
   "language": "python",
   "name": "python3"
  },
  "language_info": {
   "codemirror_mode": {
    "name": "ipython",
    "version": 3
   },
   "file_extension": ".py",
   "mimetype": "text/x-python",
   "name": "python",
   "nbconvert_exporter": "python",
   "pygments_lexer": "ipython3",
   "version": "3.10.16"
  }
 },
 "nbformat": 4,
 "nbformat_minor": 2
}
