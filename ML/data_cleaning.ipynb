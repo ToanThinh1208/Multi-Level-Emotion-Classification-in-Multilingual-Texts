{
 "cells": [
  {
   "cell_type": "code",
   "execution_count": 1,
   "metadata": {},
   "outputs": [
    {
     "name": "stdout",
     "output_type": "stream",
     "text": [
      "Requirement already satisfied: nltk in c:\\users\\thinh.laptop-gcu8t0aj\\.conda\\envs\\lugak1\\lib\\site-packages (3.9.1)\n",
      "Requirement already satisfied: click in c:\\users\\thinh.laptop-gcu8t0aj\\.conda\\envs\\lugak1\\lib\\site-packages (from nltk) (8.1.8)\n",
      "Requirement already satisfied: joblib in c:\\users\\thinh.laptop-gcu8t0aj\\.conda\\envs\\lugak1\\lib\\site-packages (from nltk) (1.4.2)\n",
      "Requirement already satisfied: regex>=2021.8.3 in c:\\users\\thinh.laptop-gcu8t0aj\\.conda\\envs\\lugak1\\lib\\site-packages (from nltk) (2024.11.6)\n",
      "Requirement already satisfied: tqdm in c:\\users\\thinh.laptop-gcu8t0aj\\.conda\\envs\\lugak1\\lib\\site-packages (from nltk) (4.67.1)\n",
      "Requirement already satisfied: colorama in c:\\users\\thinh.laptop-gcu8t0aj\\.conda\\envs\\lugak1\\lib\\site-packages (from click->nltk) (0.4.6)\n",
      "Note: you may need to restart the kernel to use updated packages.\n",
      "Requirement already satisfied: underthesea in c:\\users\\thinh.laptop-gcu8t0aj\\.conda\\envs\\lugak1\\lib\\site-packages (6.8.4)\n",
      "Requirement already satisfied: Click>=6.0 in c:\\users\\thinh.laptop-gcu8t0aj\\.conda\\envs\\lugak1\\lib\\site-packages (from underthesea) (8.1.8)\n",
      "Requirement already satisfied: python-crfsuite>=0.9.6 in c:\\users\\thinh.laptop-gcu8t0aj\\.conda\\envs\\lugak1\\lib\\site-packages (from underthesea) (0.9.11)\n",
      "Requirement already satisfied: nltk in c:\\users\\thinh.laptop-gcu8t0aj\\.conda\\envs\\lugak1\\lib\\site-packages (from underthesea) (3.9.1)\n",
      "Requirement already satisfied: tqdm in c:\\users\\thinh.laptop-gcu8t0aj\\.conda\\envs\\lugak1\\lib\\site-packages (from underthesea) (4.67.1)\n",
      "Requirement already satisfied: requests in c:\\users\\thinh.laptop-gcu8t0aj\\.conda\\envs\\lugak1\\lib\\site-packages (from underthesea) (2.32.3)\n",
      "Requirement already satisfied: joblib in c:\\users\\thinh.laptop-gcu8t0aj\\.conda\\envs\\lugak1\\lib\\site-packages (from underthesea) (1.4.2)\n",
      "Requirement already satisfied: scikit-learn in c:\\users\\thinh.laptop-gcu8t0aj\\.conda\\envs\\lugak1\\lib\\site-packages (from underthesea) (1.6.1)\n",
      "Requirement already satisfied: PyYAML in c:\\users\\thinh.laptop-gcu8t0aj\\.conda\\envs\\lugak1\\lib\\site-packages (from underthesea) (6.0.2)\n",
      "Requirement already satisfied: underthesea-core==1.0.4 in c:\\users\\thinh.laptop-gcu8t0aj\\.conda\\envs\\lugak1\\lib\\site-packages (from underthesea) (1.0.4)\n",
      "Requirement already satisfied: colorama in c:\\users\\thinh.laptop-gcu8t0aj\\.conda\\envs\\lugak1\\lib\\site-packages (from Click>=6.0->underthesea) (0.4.6)\n",
      "Requirement already satisfied: regex>=2021.8.3 in c:\\users\\thinh.laptop-gcu8t0aj\\.conda\\envs\\lugak1\\lib\\site-packages (from nltk->underthesea) (2024.11.6)\n",
      "Requirement already satisfied: charset-normalizer<4,>=2 in c:\\users\\thinh.laptop-gcu8t0aj\\.conda\\envs\\lugak1\\lib\\site-packages (from requests->underthesea) (3.4.1)\n",
      "Requirement already satisfied: idna<4,>=2.5 in c:\\users\\thinh.laptop-gcu8t0aj\\.conda\\envs\\lugak1\\lib\\site-packages (from requests->underthesea) (3.10)\n",
      "Requirement already satisfied: urllib3<3,>=1.21.1 in c:\\users\\thinh.laptop-gcu8t0aj\\.conda\\envs\\lugak1\\lib\\site-packages (from requests->underthesea) (2.3.0)\n",
      "Requirement already satisfied: certifi>=2017.4.17 in c:\\users\\thinh.laptop-gcu8t0aj\\.conda\\envs\\lugak1\\lib\\site-packages (from requests->underthesea) (2025.1.31)\n",
      "Requirement already satisfied: numpy>=1.19.5 in c:\\users\\thinh.laptop-gcu8t0aj\\.conda\\envs\\lugak1\\lib\\site-packages (from scikit-learn->underthesea) (2.2.2)\n",
      "Requirement already satisfied: scipy>=1.6.0 in c:\\users\\thinh.laptop-gcu8t0aj\\.conda\\envs\\lugak1\\lib\\site-packages (from scikit-learn->underthesea) (1.15.2)\n",
      "Requirement already satisfied: threadpoolctl>=3.1.0 in c:\\users\\thinh.laptop-gcu8t0aj\\.conda\\envs\\lugak1\\lib\\site-packages (from scikit-learn->underthesea) (3.5.0)\n",
      "Note: you may need to restart the kernel to use updated packages.\n"
     ]
    }
   ],
   "source": [
    "%pip install nltk\n",
    "%pip install underthesea"
   ]
  },
  {
   "cell_type": "code",
   "execution_count": 2,
   "metadata": {},
   "outputs": [
    {
     "name": "stderr",
     "output_type": "stream",
     "text": [
      "[nltk_data] Downloading package punkt to C:\\Users\\Thinh.LAPTOP-\n",
      "[nltk_data]     GCU8T0AJ\\AppData\\Roaming\\nltk_data...\n",
      "[nltk_data]   Package punkt is already up-to-date!\n",
      "[nltk_data] Downloading package punkt_tab to C:\\Users\\Thinh.LAPTOP-\n",
      "[nltk_data]     GCU8T0AJ\\AppData\\Roaming\\nltk_data...\n",
      "[nltk_data]   Package punkt_tab is already up-to-date!\n"
     ]
    },
    {
     "name": "stdout",
     "output_type": "stream",
     "text": [
      "Làm sạch hoàn tất. File được lưu tại: ./dataset/Amazon_Product_Review_cleaned.csv\n"
     ]
    }
   ],
   "source": [
    "import pandas as pd\n",
    "import re\n",
    "import nltk\n",
    "from nltk.tokenize import word_tokenize\n",
    "from underthesea import word_tokenize as vn_word_tokenize, text_normalize\n",
    "\n",
    "# Tải dữ liệu cần thiết\n",
    "nltk.download('punkt')\n",
    "nltk.download('punkt_tab')\n",
    "\n",
    "# Hàm làm sạch văn bản\n",
    "# Hàm làm sạch văn bản\n",
    "def clean_text(text, lang=\"en\", remove_stopwords=False):\n",
    "    if not isinstance(text, str):\n",
    "        return \"\"\n",
    "    \n",
    "    # Loại bỏ thẻ HTML\n",
    "    text = re.sub(r'<[^>]+>', '', text)\n",
    "\n",
    "    # Chuẩn hóa tiếng Việt (nếu đang xử lý tiếng Việt)\n",
    "    if lang == \"vi\":\n",
    "        text = text_normalize(text)\n",
    "\n",
    "    # Chuyển văn bản về chữ thường\n",
    "    text = text.lower()\n",
    "\n",
    "    # Xóa ký tự đặc biệt, số và dấu câu (chỉ giữ lại chữ cái và khoảng trắng)\n",
    "    text = re.sub(r\"[^a-zA-ZÀ-ỹ\\s]\", \"\", text)\n",
    "\n",
    "    # Tokenization theo ngôn ngữ\n",
    "    if lang == \"en\":\n",
    "        tokens = word_tokenize(text)  # Tokenization tiếng Anh\n",
    "    else:\n",
    "        tokens = vn_word_tokenize(text).split()  # Tokenization tiếng Việt\n",
    "\n",
    "    # Ghép lại thành chuỗi\n",
    "    return \" \".join(tokens)\n",
    "\n",
    "# Đọc dữ liệu\n",
    "file_path = \"./dataset/Amazon_Product_Review_final.csv\"\n",
    "df = pd.read_csv(file_path)\n",
    "\n",
    "# Kiểm tra nếu cột review_body tồn tại\n",
    "text_column = \"review_body\"\n",
    "if text_column in df.columns:\n",
    "    df[text_column] = df[text_column].astype(str).apply(clean_text)\n",
    "    df[text_column] = df[text_column].fillna('')  # Xóa NaN\n",
    "\n",
    "text_column = \"review_headline\"\n",
    "if text_column in df.columns:\n",
    "    df[text_column] = df[text_column].astype(str).apply(clean_text)\n",
    "    df[text_column] = df[text_column].fillna('')  # Xóa NaN\n",
    "# Lưu dữ liệu đã làm sạch\n",
    "cleaned_file_path = \"./dataset/Amazon_Product_Review_cleaned.csv\"\n",
    "df.to_csv(cleaned_file_path, index=False)\n",
    "\n",
    "print(\"Làm sạch hoàn tất. File được lưu tại:\", cleaned_file_path)\n"
   ]
  }
 ],
 "metadata": {
  "kernelspec": {
   "display_name": "lugak1",
   "language": "python",
   "name": "python3"
  },
  "language_info": {
   "codemirror_mode": {
    "name": "ipython",
    "version": 3
   },
   "file_extension": ".py",
   "mimetype": "text/x-python",
   "name": "python",
   "nbconvert_exporter": "python",
   "pygments_lexer": "ipython3",
   "version": "3.10.16"
  }
 },
 "nbformat": 4,
 "nbformat_minor": 2
}
